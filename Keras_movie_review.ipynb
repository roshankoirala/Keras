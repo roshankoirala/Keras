{
 "cells": [
  {
   "cell_type": "markdown",
   "metadata": {},
   "source": [
    "# Keras for the movie review data (IMDB)"
   ]
  },
  {
   "cell_type": "code",
   "execution_count": 1,
   "metadata": {},
   "outputs": [
    {
     "name": "stderr",
     "output_type": "stream",
     "text": [
      "Using TensorFlow backend.\n"
     ]
    }
   ],
   "source": [
    "import numpy as np\n",
    "import matplotlib.pyplot as plt\n",
    "\n",
    "from keras import models, layers, optimizers, losses, metrics\n",
    "from keras.datasets import imdb"
   ]
  },
  {
   "cell_type": "code",
   "execution_count": 2,
   "metadata": {},
   "outputs": [],
   "source": [
    "(train_data, train_labels), (test_data, test_labels) = imdb.load_data(num_words = 10000)"
   ]
  },
  {
   "cell_type": "code",
   "execution_count": 4,
   "metadata": {},
   "outputs": [],
   "source": [
    "word_index = imdb.get_word_index()\n",
    "reverse_word_index = dict([(value, key) for (key, value) in word_index.items()])\n",
    "decode_review = ' '.join([reverse_word_index.get(i-3, '??') for i in train_data[1]])"
   ]
  },
  {
   "cell_type": "code",
   "execution_count": 5,
   "metadata": {},
   "outputs": [
    {
     "data": {
      "text/plain": [
       "\"?? big hair big boobs bad music and a giant safety pin these are the words to best describe this terrible movie i love cheesy horror movies and i've seen hundreds but this had got to be on of the worst ever made the plot is paper thin and ridiculous the acting is an abomination the script is completely laughable the best is the end showdown with the cop and how he worked out who the killer is it's just so damn terribly written the clothes are sickening and funny in equal ?? the hair is big lots of boobs ?? men wear those cut ?? shirts that show off their ?? sickening that men actually wore them and the music is just ?? trash that plays over and over again in almost every scene there is trashy music boobs and ?? taking away bodies and the gym still doesn't close for ?? all joking aside this is a truly bad film whose only charm is to look back on the disaster that was the 80's and have a good old laugh at how bad everything was back then\""
      ]
     },
     "execution_count": 5,
     "metadata": {},
     "output_type": "execute_result"
    }
   ],
   "source": [
    "decode_review"
   ]
  },
  {
   "cell_type": "markdown",
   "metadata": {},
   "source": [
    "## Data preprocessing "
   ]
  },
  {
   "cell_type": "code",
   "execution_count": 6,
   "metadata": {},
   "outputs": [],
   "source": [
    "def vectorize_sequences(sequences, dimension = 10000):\n",
    "    results = np.zeros((len(sequences), dimension))\n",
    "    for i, sequence in enumerate(sequences):\n",
    "        results[i, sequence] = 1\n",
    "    return results"
   ]
  },
  {
   "cell_type": "code",
   "execution_count": 7,
   "metadata": {},
   "outputs": [],
   "source": [
    "x_train = vectorize_sequences(train_data)\n",
    "x_test = vectorize_sequences(test_data)"
   ]
  },
  {
   "cell_type": "code",
   "execution_count": 8,
   "metadata": {},
   "outputs": [],
   "source": [
    "y_train = np.asarray(train_labels).astype('float32')\n",
    "y_test = np.asarray(test_labels).astype('float32')"
   ]
  },
  {
   "cell_type": "code",
   "execution_count": 9,
   "metadata": {},
   "outputs": [],
   "source": [
    "x_val = x_train[:10000]\n",
    "y_val = y_train[:10000]\n",
    "\n",
    "x_train_part = x_train[10000:]\n",
    "y_train_part = y_train[10000:]"
   ]
  },
  {
   "cell_type": "markdown",
   "metadata": {},
   "source": [
    "## Building and training model "
   ]
  },
  {
   "cell_type": "code",
   "execution_count": 10,
   "metadata": {},
   "outputs": [],
   "source": [
    "model = models.Sequential()\n",
    "model.add(layers.Dense(16, activation= 'relu', input_shape = (10000, )))\n",
    "model.add(layers.Dense(16, activation= 'relu'))\n",
    "model.add(layers.Dense(1, activation= 'sigmoid'))"
   ]
  },
  {
   "cell_type": "code",
   "execution_count": 11,
   "metadata": {},
   "outputs": [],
   "source": [
    "model.compile(optimizer = optimizers.RMSprop(lr=0.001), \n",
    "             loss = losses.binary_crossentropy, \n",
    "             metrics = [metrics.binary_accuracy])"
   ]
  },
  {
   "cell_type": "code",
   "execution_count": 12,
   "metadata": {},
   "outputs": [
    {
     "name": "stdout",
     "output_type": "stream",
     "text": [
      "Train on 15000 samples, validate on 10000 samples\n",
      "Epoch 1/20\n",
      "15000/15000 [==============================] - 3s 226us/step - loss: 0.5046 - binary_accuracy: 0.7798 - val_loss: 0.3735 - val_binary_accuracy: 0.8761\n",
      "Epoch 2/20\n",
      "15000/15000 [==============================] - 6s 420us/step - loss: 0.2952 - binary_accuracy: 0.9065 - val_loss: 0.3194 - val_binary_accuracy: 0.8762\n",
      "Epoch 3/20\n",
      "15000/15000 [==============================] - 3s 202us/step - loss: 0.2190 - binary_accuracy: 0.9282 - val_loss: 0.2782 - val_binary_accuracy: 0.8892\n",
      "Epoch 4/20\n",
      "15000/15000 [==============================] - 3s 175us/step - loss: 0.1733 - binary_accuracy: 0.9439 - val_loss: 0.2760 - val_binary_accuracy: 0.8905\n",
      "Epoch 5/20\n",
      "15000/15000 [==============================] - 3s 180us/step - loss: 0.1406 - binary_accuracy: 0.9533 - val_loss: 0.2981 - val_binary_accuracy: 0.8823\n",
      "Epoch 6/20\n",
      "15000/15000 [==============================] - 3s 190us/step - loss: 0.1154 - binary_accuracy: 0.9641 - val_loss: 0.3015 - val_binary_accuracy: 0.8847\n",
      "Epoch 7/20\n",
      "15000/15000 [==============================] - 3s 190us/step - loss: 0.0968 - binary_accuracy: 0.9707 - val_loss: 0.3452 - val_binary_accuracy: 0.8722\n",
      "Epoch 8/20\n",
      "15000/15000 [==============================] - 4s 257us/step - loss: 0.0757 - binary_accuracy: 0.9799 - val_loss: 0.3369 - val_binary_accuracy: 0.8810\n",
      "Epoch 9/20\n",
      "15000/15000 [==============================] - 3s 220us/step - loss: 0.0643 - binary_accuracy: 0.9837 - val_loss: 0.3581 - val_binary_accuracy: 0.8788\n",
      "Epoch 10/20\n",
      "15000/15000 [==============================] - 3s 203us/step - loss: 0.0499 - binary_accuracy: 0.9883 - val_loss: 0.4138 - val_binary_accuracy: 0.8686\n",
      "Epoch 11/20\n",
      "15000/15000 [==============================] - 3s 171us/step - loss: 0.0406 - binary_accuracy: 0.9903 - val_loss: 0.4159 - val_binary_accuracy: 0.8758\n",
      "Epoch 12/20\n",
      "15000/15000 [==============================] - 3s 224us/step - loss: 0.0333 - binary_accuracy: 0.9928 - val_loss: 0.4686 - val_binary_accuracy: 0.8658\n",
      "Epoch 13/20\n",
      "15000/15000 [==============================] - 3s 211us/step - loss: 0.0244 - binary_accuracy: 0.9955 - val_loss: 0.5363 - val_binary_accuracy: 0.8664\n",
      "Epoch 14/20\n",
      "15000/15000 [==============================] - 3s 179us/step - loss: 0.0210 - binary_accuracy: 0.9961 - val_loss: 0.5063 - val_binary_accuracy: 0.8692\n",
      "Epoch 15/20\n",
      "15000/15000 [==============================] - 3s 167us/step - loss: 0.0122 - binary_accuracy: 0.9991 - val_loss: 0.5423 - val_binary_accuracy: 0.8677\n",
      "Epoch 16/20\n",
      "15000/15000 [==============================] - 3s 194us/step - loss: 0.0153 - binary_accuracy: 0.9969 - val_loss: 0.5733 - val_binary_accuracy: 0.8685\n",
      "Epoch 17/20\n",
      "15000/15000 [==============================] - 3s 171us/step - loss: 0.0062 - binary_accuracy: 0.9998 - val_loss: 0.6285 - val_binary_accuracy: 0.8674\n",
      "Epoch 18/20\n",
      "15000/15000 [==============================] - 3s 168us/step - loss: 0.0094 - binary_accuracy: 0.9981 - val_loss: 0.6402 - val_binary_accuracy: 0.8667\n",
      "Epoch 19/20\n",
      "15000/15000 [==============================] - 3s 170us/step - loss: 0.0035 - binary_accuracy: 0.9999 - val_loss: 0.6859 - val_binary_accuracy: 0.8652\n",
      "Epoch 20/20\n",
      "15000/15000 [==============================] - 3s 169us/step - loss: 0.0065 - binary_accuracy: 0.9989 - val_loss: 0.7079 - val_binary_accuracy: 0.8667\n"
     ]
    }
   ],
   "source": [
    "history = model.fit(x_train_part, y_train_part, \n",
    "                   epochs = 20, \n",
    "                   batch_size = 512, \n",
    "                   validation_data= (x_val, y_val))"
   ]
  },
  {
   "cell_type": "code",
   "execution_count": 13,
   "metadata": {},
   "outputs": [
    {
     "data": {
      "image/png": "[encoded data removed]",
      "text/plain": [
       "<Figure size 576x360 with 1 Axes>"
      ]
     },
     "metadata": {
      "needs_background": "light"
     },
     "output_type": "display_data"
    }
   ],
   "source": [
    "history_dict = history.history\n",
    "epoches = range(1, 1 + 20)\n",
    "\n",
    "loss_training = history_dict['loss']\n",
    "loss_validation = history_dict['val_loss']\n",
    "\n",
    "plt.figure(figsize=(8, 5))\n",
    "plt.plot(epoches, loss_training, 'rx')\n",
    "plt.plot(epoches, loss_validation, 'b^')\n",
    "plt.legend(['Training Loss', 'Validation Loss'])\n",
    "plt.xlabel('Epoches')\n",
    "plt.ylabel('Loss')\n",
    "plt.show()"
   ]
  },
  {
   "cell_type": "code",
   "execution_count": 14,
   "metadata": {},
   "outputs": [
    {
     "data": {
      "image/png": "[encoded data removed]",
      "text/plain": [
       "<Figure size 576x360 with 1 Axes>"
      ]
     },
     "metadata": {
      "needs_background": "light"
     },
     "output_type": "display_data"
    }
   ],
   "source": [
    "acc_training = history_dict['binary_accuracy']\n",
    "acc_validation = history_dict['val_binary_accuracy']\n",
    "\n",
    "plt.figure(figsize=(8, 5))\n",
    "plt.plot(epoches, acc_training, 'rx')\n",
    "plt.plot(epoches, acc_validation, 'b^')\n",
    "plt.legend(['Training Loss', 'Validation Loss'])\n",
    "plt.xlabel('Epoches')\n",
    "plt.ylabel('Loss')\n",
    "plt.show()"
   ]
  },
  {
   "cell_type": "markdown",
   "metadata": {},
   "source": [
    "## Predicting "
   ]
  },
  {
   "cell_type": "code",
   "execution_count": null,
   "metadata": {},
   "outputs": [
    {
     "name": "stdout",
     "output_type": "stream",
     "text": [
      "Epoch 1/4\n",
      "25000/25000 [==============================] - 3s 104us/step - loss: 0.2260 - binary_accuracy: 0.9454\n",
      "Epoch 2/4\n",
      "25000/25000 [==============================] - 3s 107us/step - loss: 0.1256 - binary_accuracy: 0.9612\n",
      "Epoch 3/4\n",
      "19456/25000 [======================>.......] - ETA: 0s - loss: 0.0897 - binary_accuracy: 0.9734"
     ]
    }
   ],
   "source": [
    "model.fit(x_train, y_train, epochs=4, batch_size=512)\n",
    "results = model.evaluate(x_test, y_test)"
   ]
  },
  {
   "cell_type": "code",
   "execution_count": null,
   "metadata": {},
   "outputs": [],
   "source": [
    "results"
   ]
  },
  {
   "cell_type": "code",
   "execution_count": null,
   "metadata": {},
   "outputs": [],
   "source": [
    "confidence = model.predict(x_test)"
   ]
  },
  {
   "cell_type": "code",
   "execution_count": null,
   "metadata": {},
   "outputs": [],
   "source": [
    "plt.hist(confidence, bins=20, rwidth=0.9)\n",
    "plt.show()"
   ]
  },
  {
   "cell_type": "code",
   "execution_count": null,
   "metadata": {},
   "outputs": [],
   "source": []
  }
 ],
 "metadata": {
  "kernelspec": {
   "display_name": "Python 3",
   "language": "python",
   "name": "python3"
  },
  "language_info": {
   "codemirror_mode": {
    "name": "ipython",
    "version": 3
   },
   "file_extension": ".py",
   "mimetype": "text/x-python",
   "name": "python",
   "nbconvert_exporter": "python",
   "pygments_lexer": "ipython3",
   "version": "3.7.7"
  }
 },
 "nbformat": 4,
 "nbformat_minor": 4
}

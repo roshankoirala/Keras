{
 "cells": [
  {
   "cell_type": "markdown",
   "metadata": {},
   "source": [
    "# Keras for the movie review data (IMDB)"
   ]
  },
  {
   "cell_type": "code",
   "execution_count": 1,
   "metadata": {},
   "outputs": [
    {
     "name": "stderr",
     "output_type": "stream",
     "text": [
      "Using TensorFlow backend.\n"
     ]
    }
   ],
   "source": [
    "import numpy as np\n",
    "import matplotlib.pyplot as plt\n",
    "\n",
    "from keras import models, layers, optimizers, losses, metrics\n",
    "from keras.datasets import imdb"
   ]
  },
  {
   "cell_type": "code",
   "execution_count": 2,
   "metadata": {},
   "outputs": [],
   "source": [
    "(train_data, train_labels), (test_data, test_labels) = imdb.load_data(num_words = 10000)"
   ]
  },
  {
   "cell_type": "code",
   "execution_count": 3,
   "metadata": {},
   "outputs": [],
   "source": [
    "word_index = imdb.get_word_index()\n",
    "reverse_word_index = dict([(value, key) for (key, value) in word_index.items()])\n",
    "decode_review = ' '.join([reverse_word_index.get(i-3, '??') for i in train_data[1]])"
   ]
  },
  {
   "cell_type": "code",
   "execution_count": 4,
   "metadata": {},
   "outputs": [
    {
     "data": {
      "text/plain": [
       "\"?? big hair big boobs bad music and a giant safety pin these are the words to best describe this terrible movie i love cheesy horror movies and i've seen hundreds but this had got to be on of the worst ever made the plot is paper thin and ridiculous the acting is an abomination the script is completely laughable the best is the end showdown with the cop and how he worked out who the killer is it's just so damn terribly written the clothes are sickening and funny in equal ?? the hair is big lots of boobs ?? men wear those cut ?? shirts that show off their ?? sickening that men actually wore them and the music is just ?? trash that plays over and over again in almost every scene there is trashy music boobs and ?? taking away bodies and the gym still doesn't close for ?? all joking aside this is a truly bad film whose only charm is to look back on the disaster that was the 80's and have a good old laugh at how bad everything was back then\""
      ]
     },
     "execution_count": 4,
     "metadata": {},
     "output_type": "execute_result"
    }
   ],
   "source": [
    "decode_review"
   ]
  },
  {
   "cell_type": "markdown",
   "metadata": {},
   "source": [
    "## Data preprocessing "
   ]
  },
  {
   "cell_type": "code",
   "execution_count": 5,
   "metadata": {},
   "outputs": [],
   "source": [
    "def vectorize_sequences(sequences, dimension = 10000):\n",
    "    results = np.zeros((len(sequences), dimension))\n",
    "    for i, sequence in enumerate(sequences):\n",
    "        results[i, sequence] = 1\n",
    "    return results"
   ]
  },
  {
   "cell_type": "code",
   "execution_count": 6,
   "metadata": {},
   "outputs": [],
   "source": [
    "x_train = vectorize_sequences(train_data)\n",
    "x_test = vectorize_sequences(test_data)"
   ]
  },
  {
   "cell_type": "code",
   "execution_count": 7,
   "metadata": {},
   "outputs": [],
   "source": [
    "y_train = np.asarray(train_labels).astype('float32')\n",
    "y_test = np.asarray(test_labels).astype('float32')"
   ]
  },
  {
   "cell_type": "code",
   "execution_count": 8,
   "metadata": {},
   "outputs": [],
   "source": [
    "x_val = x_train[:10000]\n",
    "y_val = y_train[:10000]\n",
    "\n",
    "x_train_part = x_train[10000:]\n",
    "y_train_part = y_train[10000:]"
   ]
  },
  {
   "cell_type": "markdown",
   "metadata": {},
   "source": [
    "## Building and training model "
   ]
  },
  {
   "cell_type": "code",
   "execution_count": 9,
   "metadata": {},
   "outputs": [],
   "source": [
    "model = models.Sequential()\n",
    "model.add(layers.Dense(16, activation= 'relu', input_shape = (10000, )))\n",
    "model.add(layers.Dense(16, activation= 'relu'))\n",
    "model.add(layers.Dense(1, activation= 'sigmoid'))"
   ]
  },
  {
   "cell_type": "code",
   "execution_count": 10,
   "metadata": {},
   "outputs": [],
   "source": [
    "model.compile(optimizer = optimizers.RMSprop(lr=0.001), \n",
    "             loss = losses.binary_crossentropy, \n",
    "             metrics = [metrics.binary_accuracy])"
   ]
  },
  {
   "cell_type": "code",
   "execution_count": 11,
   "metadata": {},
   "outputs": [
    {
     "name": "stdout",
     "output_type": "stream",
     "text": [
      "Train on 15000 samples, validate on 10000 samples\n",
      "Epoch 1/20\n",
      "15000/15000 [==============================] - 3s 203us/step - loss: 0.5400 - binary_accuracy: 0.7764 - val_loss: 0.4124 - val_binary_accuracy: 0.8719\n",
      "Epoch 2/20\n",
      "15000/15000 [==============================] - 3s 193us/step - loss: 0.3334 - binary_accuracy: 0.8998 - val_loss: 0.3190 - val_binary_accuracy: 0.8859\n",
      "Epoch 3/20\n",
      "15000/15000 [==============================] - 3s 176us/step - loss: 0.2396 - binary_accuracy: 0.9254 - val_loss: 0.2821 - val_binary_accuracy: 0.8898\n",
      "Epoch 4/20\n",
      "15000/15000 [==============================] - 3s 172us/step - loss: 0.1873 - binary_accuracy: 0.9400 - val_loss: 0.2739 - val_binary_accuracy: 0.8900\n",
      "Epoch 5/20\n",
      "15000/15000 [==============================] - 5s 333us/step - loss: 0.1516 - binary_accuracy: 0.9522 - val_loss: 0.3049 - val_binary_accuracy: 0.8794\n",
      "Epoch 6/20\n",
      "15000/15000 [==============================] - 7s 434us/step - loss: 0.1258 - binary_accuracy: 0.9602 - val_loss: 0.2859 - val_binary_accuracy: 0.8868\n",
      "Epoch 7/20\n",
      "15000/15000 [==============================] - 4s 245us/step - loss: 0.1067 - binary_accuracy: 0.9666 - val_loss: 0.3070 - val_binary_accuracy: 0.8824\n",
      "Epoch 8/20\n",
      "15000/15000 [==============================] - 3s 201us/step - loss: 0.0888 - binary_accuracy: 0.9746 - val_loss: 0.3203 - val_binary_accuracy: 0.8843\n",
      "Epoch 9/20\n",
      "15000/15000 [==============================] - 3s 192us/step - loss: 0.0739 - binary_accuracy: 0.9796 - val_loss: 0.3381 - val_binary_accuracy: 0.8821\n",
      "Epoch 10/20\n",
      "15000/15000 [==============================] - 3s 206us/step - loss: 0.0644 - binary_accuracy: 0.9816 - val_loss: 0.3788 - val_binary_accuracy: 0.8749\n",
      "Epoch 11/20\n",
      "15000/15000 [==============================] - 3s 186us/step - loss: 0.0503 - binary_accuracy: 0.9884 - val_loss: 0.3842 - val_binary_accuracy: 0.8789\n",
      "Epoch 12/20\n",
      "15000/15000 [==============================] - 3s 177us/step - loss: 0.0428 - binary_accuracy: 0.9907 - val_loss: 0.4129 - val_binary_accuracy: 0.8786\n",
      "Epoch 13/20\n",
      "15000/15000 [==============================] - 3s 217us/step - loss: 0.0358 - binary_accuracy: 0.9924 - val_loss: 0.4477 - val_binary_accuracy: 0.8724\n",
      "Epoch 14/20\n",
      "15000/15000 [==============================] - 4s 255us/step - loss: 0.0297 - binary_accuracy: 0.9940 - val_loss: 0.4738 - val_binary_accuracy: 0.8744\n",
      "Epoch 15/20\n",
      "15000/15000 [==============================] - 3s 232us/step - loss: 0.0226 - binary_accuracy: 0.9963 - val_loss: 0.5028 - val_binary_accuracy: 0.8712\n",
      "Epoch 16/20\n",
      "15000/15000 [==============================] - 3s 182us/step - loss: 0.0191 - binary_accuracy: 0.9973 - val_loss: 0.5371 - val_binary_accuracy: 0.8687\n",
      "Epoch 17/20\n",
      "15000/15000 [==============================] - 3s 174us/step - loss: 0.0164 - binary_accuracy: 0.9977 - val_loss: 0.5671 - val_binary_accuracy: 0.8692\n",
      "Epoch 18/20\n",
      "15000/15000 [==============================] - 3s 229us/step - loss: 0.0144 - binary_accuracy: 0.9973 - val_loss: 0.5979 - val_binary_accuracy: 0.8684\n",
      "Epoch 19/20\n",
      "15000/15000 [==============================] - 2s 165us/step - loss: 0.0079 - binary_accuracy: 0.9997 - val_loss: 0.6240 - val_binary_accuracy: 0.8676\n",
      "Epoch 20/20\n",
      "15000/15000 [==============================] - 2s 165us/step - loss: 0.0074 - binary_accuracy: 0.9997 - val_loss: 0.6712 - val_binary_accuracy: 0.8681\n"
     ]
    }
   ],
   "source": [
    "history = model.fit(x_train_part, y_train_part, \n",
    "                   epochs = 20, \n",
    "                   batch_size = 512, \n",
    "                   validation_data= (x_val, y_val))"
   ]
  },
  {
   "cell_type": "code",
   "execution_count": 12,
   "metadata": {},
   "outputs": [
    {
     "data": {
      "image/png": "[encoded data removed]",
      "text/plain": [
       "<Figure size 576x360 with 1 Axes>"
      ]
     },
     "metadata": {
      "needs_background": "light"
     },
     "output_type": "display_data"
    }
   ],
   "source": [
    "history_dict = history.history\n",
    "epoches = range(1, 1 + 20)\n",
    "\n",
    "loss_training = history_dict['loss']\n",
    "loss_validation = history_dict['val_loss']\n",
    "\n",
    "plt.figure(figsize=(8, 5))\n",
    "plt.plot(epoches, loss_training, 'rx')\n",
    "plt.plot(epoches, loss_validation, 'b^')\n",
    "plt.legend(['Training Loss', 'Validation Loss'])\n",
    "plt.xlabel('Epoches')\n",
    "plt.ylabel('Loss')\n",
    "plt.show()"
   ]
  },
  {
   "cell_type": "code",
   "execution_count": 13,
   "metadata": {},
   "outputs": [
    {
     "data": {
      "image/png": "[encoded data removed]",
      "text/plain": [
       "<Figure size 576x360 with 1 Axes>"
      ]
     },
     "metadata": {
      "needs_background": "light"
     },
     "output_type": "display_data"
    }
   ],
   "source": [
    "acc_training = history_dict['binary_accuracy']\n",
    "acc_validation = history_dict['val_binary_accuracy']\n",
    "\n",
    "plt.figure(figsize=(8, 5))\n",
    "plt.plot(epoches, acc_training, 'rx')\n",
    "plt.plot(epoches, acc_validation, 'b^')\n",
    "plt.legend(['Training Loss', 'Validation Loss'])\n",
    "plt.xlabel('Epoches')\n",
    "plt.ylabel('Loss')\n",
    "plt.show()"
   ]
  },
  {
   "cell_type": "markdown",
   "metadata": {},
   "source": [
    "## Predicting "
   ]
  },
  {
   "cell_type": "code",
   "execution_count": 14,
   "metadata": {},
   "outputs": [],
   "source": [
    "model = models.Sequential()\n",
    "model.add(layers.Dense(16, activation= 'relu', input_shape = (10000, )))\n",
    "model.add(layers.Dense(16, activation= 'relu'))\n",
    "model.add(layers.Dense(1, activation= 'sigmoid'))"
   ]
  },
  {
   "cell_type": "code",
   "execution_count": 15,
   "metadata": {},
   "outputs": [],
   "source": [
    "model.compile(optimizer = 'rmsprop', \n",
    "             loss = 'binary_crossentropy',\n",
    "             metrics = ['accuracy'])"
   ]
  },
  {
   "cell_type": "code",
   "execution_count": 16,
   "metadata": {},
   "outputs": [
    {
     "name": "stdout",
     "output_type": "stream",
     "text": [
      "Epoch 1/4\n",
      "25000/25000 [==============================] - 3s 110us/step - loss: 0.4712 - accuracy: 0.8183\n",
      "Epoch 2/4\n",
      "25000/25000 [==============================] - 3s 104us/step - loss: 0.2664 - accuracy: 0.9102\n",
      "Epoch 3/4\n",
      "25000/25000 [==============================] - 3s 103us/step - loss: 0.2050 - accuracy: 0.9272\n",
      "Epoch 4/4\n",
      "25000/25000 [==============================] - 3s 105us/step - loss: 0.1682 - accuracy: 0.9409\n",
      "25000/25000 [==============================] - 3s 125us/step\n"
     ]
    }
   ],
   "source": [
    "model.fit(x_train, y_train, epochs=4, batch_size=512)\n",
    "results = model.evaluate(x_test, y_test)"
   ]
  },
  {
   "cell_type": "code",
   "execution_count": 17,
   "metadata": {},
   "outputs": [
    {
     "data": {
      "text/plain": [
       "[0.29560149191856383, 0.8828399777412415]"
      ]
     },
     "execution_count": 17,
     "metadata": {},
     "output_type": "execute_result"
    }
   ],
   "source": [
    "results"
   ]
  },
  {
   "cell_type": "code",
   "execution_count": 18,
   "metadata": {},
   "outputs": [],
   "source": [
    "confidence = model.predict(x_test)"
   ]
  },
  {
   "cell_type": "code",
   "execution_count": 19,
   "metadata": {},
   "outputs": [
    {
     "data": {
      "image/png": "[encoded data removed]",
      "text/plain": [
       "<Figure size 432x288 with 1 Axes>"
      ]
     },
     "metadata": {
      "needs_background": "light"
     },
     "output_type": "display_data"
    }
   ],
   "source": [
    "plt.hist(confidence, bins=20, rwidth=0.9)\n",
    "plt.show()"
   ]
  },
  {
   "cell_type": "code",
   "execution_count": null,
   "metadata": {},
   "outputs": [],
   "source": []
  }
 ],
 "metadata": {
  "kernelspec": {
   "display_name": "Python 3",
   "language": "python",
   "name": "python3"
  },
  "language_info": {
   "codemirror_mode": {
    "name": "ipython",
    "version": 3
   },
   "file_extension": ".py",
   "mimetype": "text/x-python",
   "name": "python",
   "nbconvert_exporter": "python",
   "pygments_lexer": "ipython3",
   "version": "3.7.7"
  }
 },
 "nbformat": 4,
 "nbformat_minor": 4
}

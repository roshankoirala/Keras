{
 "cells": [
  {
   "cell_type": "markdown",
   "metadata": {},
   "source": [
    "# Keras for the movie review data (IMDB)"
   ]
  },
  {
   "cell_type": "code",
   "execution_count": 1,
   "metadata": {},
   "outputs": [
    {
     "name": "stderr",
     "output_type": "stream",
     "text": [
      "Using TensorFlow backend.\n"
     ]
    }
   ],
   "source": [
    "import numpy as np\n",
    "import matplotlib.pyplot as plt\n",
    "\n",
    "from keras import models, layers, optimizers, losses, metrics\n",
    "from keras.datasets import imdb"
   ]
  },
  {
   "cell_type": "code",
   "execution_count": 2,
   "metadata": {},
   "outputs": [],
   "source": [
    "(train_data, train_labels), (test_data, test_labels) = imdb.load_data(num_words = 10000)"
   ]
  },
  {
   "cell_type": "code",
   "execution_count": 3,
   "metadata": {},
   "outputs": [],
   "source": [
    "word_index = imdb.get_word_index()\n",
    "reverse_word_index = dict([(value, key) for (key, value) in word_index.items()])\n",
    "decode_review = ' '.join([reverse_word_index.get(i-3, '??') for i in train_data[1]])"
   ]
  },
  {
   "cell_type": "code",
   "execution_count": 4,
   "metadata": {},
   "outputs": [
    {
     "data": {
      "text/plain": [
       "\"?? big hair big boobs bad music and a giant safety pin these are the words to best describe this terrible movie i love cheesy horror movies and i've seen hundreds but this had got to be on of the worst ever made the plot is paper thin and ridiculous the acting is an abomination the script is completely laughable the best is the end showdown with the cop and how he worked out who the killer is it's just so damn terribly written the clothes are sickening and funny in equal ?? the hair is big lots of boobs ?? men wear those cut ?? shirts that show off their ?? sickening that men actually wore them and the music is just ?? trash that plays over and over again in almost every scene there is trashy music boobs and ?? taking away bodies and the gym still doesn't close for ?? all joking aside this is a truly bad film whose only charm is to look back on the disaster that was the 80's and have a good old laugh at how bad everything was back then\""
      ]
     },
     "execution_count": 4,
     "metadata": {},
     "output_type": "execute_result"
    }
   ],
   "source": [
    "decode_review"
   ]
  },
  {
   "cell_type": "markdown",
   "metadata": {},
   "source": [
    "## Data preprocessing "
   ]
  },
  {
   "cell_type": "code",
   "execution_count": 5,
   "metadata": {},
   "outputs": [],
   "source": [
    "def vectorize_sequences(sequences, dimension = 10000):\n",
    "    results = np.zeros((len(sequences), dimension))\n",
    "    for i, sequence in enumerate(sequences):\n",
    "        results[i, sequence] = 1\n",
    "    return results"
   ]
  },
  {
   "cell_type": "code",
   "execution_count": 6,
   "metadata": {},
   "outputs": [],
   "source": [
    "x_train = vectorize_sequences(train_data)\n",
    "x_test = vectorize_sequences(test_data)"
   ]
  },
  {
   "cell_type": "code",
   "execution_count": 7,
   "metadata": {},
   "outputs": [],
   "source": [
    "y_train = np.asarray(train_labels).astype('float32')\n",
    "y_test = np.asarray(test_labels).astype('float32')"
   ]
  },
  {
   "cell_type": "code",
   "execution_count": 8,
   "metadata": {},
   "outputs": [],
   "source": [
    "x_val = x_train[:10000]\n",
    "y_val = y_train[:10000]\n",
    "\n",
    "x_train_part = x_train[10000:]\n",
    "y_train_part = y_train[10000:]"
   ]
  },
  {
   "cell_type": "markdown",
   "metadata": {},
   "source": [
    "## Building and training model "
   ]
  },
  {
   "cell_type": "code",
   "execution_count": 9,
   "metadata": {},
   "outputs": [],
   "source": [
    "model = models.Sequential()\n",
    "model.add(layers.Dense(16, activation= 'relu', input_shape = (10000, )))\n",
    "model.add(layers.Dense(16, activation= 'relu'))\n",
    "model.add(layers.Dense(1, activation= 'sigmoid'))"
   ]
  },
  {
   "cell_type": "code",
   "execution_count": 10,
   "metadata": {},
   "outputs": [],
   "source": [
    "model.compile(optimizer = optimizers.RMSprop(lr=0.001), \n",
    "             loss = losses.binary_crossentropy, \n",
    "             metrics = [metrics.binary_accuracy])"
   ]
  },
  {
   "cell_type": "code",
   "execution_count": 11,
   "metadata": {},
   "outputs": [
    {
     "name": "stdout",
     "output_type": "stream",
     "text": [
      "Train on 15000 samples, validate on 10000 samples\n",
      "Epoch 1/20\n",
      "15000/15000 [==============================] - 5s 363us/step - loss: 0.5119 - binary_accuracy: 0.7775 - val_loss: 0.3799 - val_binary_accuracy: 0.8705\n",
      "Epoch 2/20\n",
      "15000/15000 [==============================] - 3s 203us/step - loss: 0.3017 - binary_accuracy: 0.9031 - val_loss: 0.3018 - val_binary_accuracy: 0.8851\n",
      "Epoch 3/20\n",
      "15000/15000 [==============================] - 4s 263us/step - loss: 0.2206 - binary_accuracy: 0.9288 - val_loss: 0.2814 - val_binary_accuracy: 0.8883\n",
      "Epoch 4/20\n",
      "15000/15000 [==============================] - 3s 207us/step - loss: 0.1740 - binary_accuracy: 0.9437 - val_loss: 0.2914 - val_binary_accuracy: 0.8820\n",
      "Epoch 5/20\n",
      "15000/15000 [==============================] - 3s 181us/step - loss: 0.1407 - binary_accuracy: 0.9547 - val_loss: 0.2895 - val_binary_accuracy: 0.8846\n",
      "Epoch 6/20\n",
      "15000/15000 [==============================] - 3s 195us/step - loss: 0.1124 - binary_accuracy: 0.9670 - val_loss: 0.2950 - val_binary_accuracy: 0.8854\n",
      "Epoch 7/20\n",
      "15000/15000 [==============================] - 3s 186us/step - loss: 0.0929 - binary_accuracy: 0.9730 - val_loss: 0.3428 - val_binary_accuracy: 0.8765\n",
      "Epoch 8/20\n",
      "15000/15000 [==============================] - 3s 180us/step - loss: 0.0761 - binary_accuracy: 0.9777 - val_loss: 0.3472 - val_binary_accuracy: 0.8795\n",
      "Epoch 9/20\n",
      "15000/15000 [==============================] - 4s 239us/step - loss: 0.0614 - binary_accuracy: 0.9841 - val_loss: 0.3569 - val_binary_accuracy: 0.8796\n",
      "Epoch 10/20\n",
      "15000/15000 [==============================] - 3s 178us/step - loss: 0.0474 - binary_accuracy: 0.9885 - val_loss: 0.3957 - val_binary_accuracy: 0.8755\n",
      "Epoch 11/20\n",
      "15000/15000 [==============================] - 3s 175us/step - loss: 0.0378 - binary_accuracy: 0.9913 - val_loss: 0.4195 - val_binary_accuracy: 0.8748\n",
      "Epoch 12/20\n",
      "15000/15000 [==============================] - 3s 179us/step - loss: 0.0282 - binary_accuracy: 0.9953 - val_loss: 0.5059 - val_binary_accuracy: 0.8650\n",
      "Epoch 13/20\n",
      "15000/15000 [==============================] - 3s 178us/step - loss: 0.0235 - binary_accuracy: 0.9962 - val_loss: 0.4788 - val_binary_accuracy: 0.8742\n",
      "Epoch 14/20\n",
      "15000/15000 [==============================] - 4s 247us/step - loss: 0.0151 - binary_accuracy: 0.9985 - val_loss: 0.5423 - val_binary_accuracy: 0.8648\n",
      "Epoch 15/20\n",
      "15000/15000 [==============================] - 3s 183us/step - loss: 0.0144 - binary_accuracy: 0.9975 - val_loss: 0.5520 - val_binary_accuracy: 0.8708\n",
      "Epoch 16/20\n",
      "15000/15000 [==============================] - 3s 180us/step - loss: 0.0102 - binary_accuracy: 0.9987 - val_loss: 0.5813 - val_binary_accuracy: 0.8702\n",
      "Epoch 17/20\n",
      "15000/15000 [==============================] - 3s 177us/step - loss: 0.0054 - binary_accuracy: 0.9998 - val_loss: 0.6197 - val_binary_accuracy: 0.8703\n",
      "Epoch 18/20\n",
      "15000/15000 [==============================] - 3s 179us/step - loss: 0.0071 - binary_accuracy: 0.9988 - val_loss: 0.6586 - val_binary_accuracy: 0.8685\n",
      "Epoch 19/20\n",
      "15000/15000 [==============================] - 3s 181us/step - loss: 0.0028 - binary_accuracy: 0.9999 - val_loss: 0.7193 - val_binary_accuracy: 0.8675\n",
      "Epoch 20/20\n",
      "15000/15000 [==============================] - 3s 227us/step - loss: 0.0071 - binary_accuracy: 0.9989 - val_loss: 0.7301 - val_binary_accuracy: 0.8673\n"
     ]
    }
   ],
   "source": [
    "history = model.fit(x_train_part, y_train_part, \n",
    "                   epochs = 20, \n",
    "                   batch_size = 512, \n",
    "                   validation_data= (x_val, y_val))"
   ]
  },
  {
   "cell_type": "code",
   "execution_count": 12,
   "metadata": {},
   "outputs": [
    {
     "data": {
      "image/png": "[encoded data removed]",
      "text/plain": [
       "<Figure size 576x360 with 1 Axes>"
      ]
     },
     "metadata": {
      "needs_background": "light"
     },
     "output_type": "display_data"
    }
   ],
   "source": [
    "history_dict = history.history\n",
    "epoches = range(1, 1 + 20)\n",
    "\n",
    "loss_training = history_dict['loss']\n",
    "loss_validation = history_dict['val_loss']\n",
    "\n",
    "plt.figure(figsize=(8, 5))\n",
    "plt.plot(epoches, loss_training, 'rx')\n",
    "plt.plot(epoches, loss_validation, 'b^')\n",
    "plt.legend(['Training Loss', 'Validation Loss'])\n",
    "plt.xlabel('Epoches')\n",
    "plt.ylabel('Loss')\n",
    "plt.show()"
   ]
  },
  {
   "cell_type": "code",
   "execution_count": 13,
   "metadata": {},
   "outputs": [
    {
     "data": {
      "image/png": "[encoded data removed]",
      "text/plain": [
       "<Figure size 576x360 with 1 Axes>"
      ]
     },
     "metadata": {
      "needs_background": "light"
     },
     "output_type": "display_data"
    }
   ],
   "source": [
    "acc_training = history_dict['binary_accuracy']\n",
    "acc_validation = history_dict['val_binary_accuracy']\n",
    "\n",
    "plt.figure(figsize=(8, 5))\n",
    "plt.plot(epoches, acc_training, 'rx')\n",
    "plt.plot(epoches, acc_validation, 'b^')\n",
    "plt.legend(['Training Accuracy', 'Validation Accuracy'])\n",
    "plt.xlabel('Epoches')\n",
    "plt.ylabel('Loss')\n",
    "plt.show()"
   ]
  },
  {
   "cell_type": "markdown",
   "metadata": {},
   "source": [
    "## Predicting "
   ]
  },
  {
   "cell_type": "code",
   "execution_count": 14,
   "metadata": {},
   "outputs": [],
   "source": [
    "model = models.Sequential()\n",
    "model.add(layers.Dense(16, activation= 'relu', input_shape = (10000, )))\n",
    "model.add(layers.Dense(16, activation= 'relu'))\n",
    "model.add(layers.Dense(1, activation= 'sigmoid'))"
   ]
  },
  {
   "cell_type": "code",
   "execution_count": 15,
   "metadata": {},
   "outputs": [],
   "source": [
    "model.compile(optimizer = 'rmsprop', \n",
    "             loss = 'binary_crossentropy',\n",
    "             metrics = ['accuracy'])"
   ]
  },
  {
   "cell_type": "code",
   "execution_count": 16,
   "metadata": {},
   "outputs": [
    {
     "name": "stdout",
     "output_type": "stream",
     "text": [
      "Epoch 1/4\n",
      "25000/25000 [==============================] - 5s 196us/step - loss: 0.4700 - accuracy: 0.8238\n",
      "Epoch 2/4\n",
      "25000/25000 [==============================] - 4s 159us/step - loss: 0.2703 - accuracy: 0.9060\n",
      "Epoch 3/4\n",
      "25000/25000 [==============================] - 3s 111us/step - loss: 0.2041 - accuracy: 0.9269\n",
      "Epoch 4/4\n",
      "25000/25000 [==============================] - ETA: 0s - loss: 0.1719 - accuracy: 0.93 - 3s 114us/step - loss: 0.1723 - accuracy: 0.9392\n",
      "25000/25000 [==============================] - 5s 220us/step\n"
     ]
    }
   ],
   "source": [
    "model.fit(x_train, y_train, epochs=4, batch_size=512)\n",
    "results = model.evaluate(x_test, y_test)"
   ]
  },
  {
   "cell_type": "code",
   "execution_count": 17,
   "metadata": {},
   "outputs": [
    {
     "data": {
      "text/plain": [
       "[0.2983190300512314, 0.8813999891281128]"
      ]
     },
     "execution_count": 17,
     "metadata": {},
     "output_type": "execute_result"
    }
   ],
   "source": [
    "results"
   ]
  },
  {
   "cell_type": "code",
   "execution_count": 18,
   "metadata": {},
   "outputs": [],
   "source": [
    "confidence = model.predict(x_test)"
   ]
  },
  {
   "cell_type": "code",
   "execution_count": 19,
   "metadata": {},
   "outputs": [
    {
     "data": {
      "image/png": "[encoded data removed]",
      "text/plain": [
       "<Figure size 432x288 with 1 Axes>"
      ]
     },
     "metadata": {
      "needs_background": "light"
     },
     "output_type": "display_data"
    }
   ],
   "source": [
    "plt.hist(confidence, bins=20, rwidth=0.9)\n",
    "plt.show()"
   ]
  },
  {
   "cell_type": "code",
   "execution_count": null,
   "metadata": {},
   "outputs": [],
   "source": []
  }
 ],
 "metadata": {
  "kernelspec": {
   "display_name": "Python 3",
   "language": "python",
   "name": "python3"
  },
  "language_info": {
   "codemirror_mode": {
    "name": "ipython",
    "version": 3
   },
   "file_extension": ".py",
   "mimetype": "text/x-python",
   "name": "python",
   "nbconvert_exporter": "python",
   "pygments_lexer": "ipython3",
   "version": "3.7.7"
  }
 },
 "nbformat": 4,
 "nbformat_minor": 4
}

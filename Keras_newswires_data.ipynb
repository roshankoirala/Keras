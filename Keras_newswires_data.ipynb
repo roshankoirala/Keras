{
 "cells": [
  {
   "cell_type": "markdown",
   "metadata": {},
   "source": [
    "# Keras for newswires data "
   ]
  },
  {
   "cell_type": "code",
   "execution_count": 25,
   "metadata": {},
   "outputs": [],
   "source": [
    "import numpy as np\n",
    "import matplotlib.pyplot as plt\n",
    "\n",
    "from keras import models, layers\n",
    "from keras.utils.np_utils import to_categorical\n",
    "from keras.datasets import reuters"
   ]
  },
  {
   "cell_type": "code",
   "execution_count": 5,
   "metadata": {},
   "outputs": [],
   "source": [
    "(train_data, train_labels), (test_data, test_labels) = reuters.load_data(num_words = 10000)"
   ]
  },
  {
   "cell_type": "code",
   "execution_count": 6,
   "metadata": {},
   "outputs": [],
   "source": [
    "word_index = reuters.get_word_index()\n",
    "reverse_word_index = dict([(value, key) for (key, value) in word_index.items()])\n",
    "decoded_newswire = ' '.join([reverse_word_index.get(i-3, '?') for i in train_data[-1]])"
   ]
  },
  {
   "cell_type": "code",
   "execution_count": 7,
   "metadata": {},
   "outputs": [
    {
     "data": {
      "text/plain": [
       "\"? currency fluctuations may ? their influence on the bullion market in the near future bullion bankers samuel montagu and co ltd said in a market report but the firm said silver may lag behind gold in any reactions to movements on foreign exchanges opec's failure to address the recent decline in oil prices remains a worrying factor however and on balance it appears that the market should be approached cautiously montagu said the bank said the us economy has shown no ? long term improvement and that both latin american debt and the iranian arms affair could undermine confidence in the dollar reuter 3\""
      ]
     },
     "execution_count": 7,
     "metadata": {},
     "output_type": "execute_result"
    }
   ],
   "source": [
    "decoded_newswire"
   ]
  },
  {
   "cell_type": "code",
   "execution_count": 8,
   "metadata": {},
   "outputs": [
    {
     "data": {
      "text/plain": [
       "25"
      ]
     },
     "execution_count": 8,
     "metadata": {},
     "output_type": "execute_result"
    }
   ],
   "source": [
    "train_labels[-1]"
   ]
  },
  {
   "cell_type": "markdown",
   "metadata": {},
   "source": [
    "## Data preprocessing "
   ]
  },
  {
   "cell_type": "code",
   "execution_count": 9,
   "metadata": {},
   "outputs": [],
   "source": [
    "def vectorize_sequences(sequences, dimension = 10000):\n",
    "    results = np.zeros((len(sequences), dimension))\n",
    "    for i, sequence in enumerate(sequences):\n",
    "        results[i, sequence] = 1\n",
    "    return results"
   ]
  },
  {
   "cell_type": "code",
   "execution_count": 10,
   "metadata": {},
   "outputs": [],
   "source": [
    "x_train = vectorize_sequences(train_data)\n",
    "x_test = vectorize_sequences(test_data)"
   ]
  },
  {
   "cell_type": "code",
   "execution_count": 11,
   "metadata": {},
   "outputs": [],
   "source": [
    "y_train = to_categorical(train_labels)\n",
    "y_test = to_categorical(test_labels)"
   ]
  },
  {
   "cell_type": "code",
   "execution_count": 14,
   "metadata": {},
   "outputs": [],
   "source": [
    "x_val = x_train[:1000]\n",
    "y_val = y_train[:1000]\n",
    "\n",
    "x_train_part = x_train[1000:]\n",
    "y_train_part = y_train[1000:]"
   ]
  },
  {
   "cell_type": "markdown",
   "metadata": {},
   "source": [
    "## Building and training model "
   ]
  },
  {
   "cell_type": "code",
   "execution_count": 12,
   "metadata": {},
   "outputs": [],
   "source": [
    "model = models.Sequential()\n",
    "model.add(layers.Dense(64, activation = 'relu', input_shape=(10000,)))\n",
    "model.add(layers.Dense(64, activation = 'relu'))\n",
    "model.add(layers.Dense(46, activation = 'softmax'))"
   ]
  },
  {
   "cell_type": "code",
   "execution_count": 13,
   "metadata": {},
   "outputs": [],
   "source": [
    "model.compile(optimizer ='rmsprop', \n",
    "             loss = 'categorical_crossentropy', \n",
    "             metrics = ['accuracy'])"
   ]
  },
  {
   "cell_type": "code",
   "execution_count": 15,
   "metadata": {},
   "outputs": [
    {
     "name": "stdout",
     "output_type": "stream",
     "text": [
      "Train on 7982 samples, validate on 1000 samples\n",
      "Epoch 1/20\n",
      "7982/7982 [==============================] - 4s 461us/step - loss: 2.5523 - accuracy: 0.5308 - val_loss: 1.7082 - val_accuracy: 0.6650\n",
      "Epoch 2/20\n",
      "7982/7982 [==============================] - 2s 215us/step - loss: 1.4021 - accuracy: 0.7092 - val_loss: 1.2974 - val_accuracy: 0.7050\n",
      "Epoch 3/20\n",
      "7982/7982 [==============================] - 2s 217us/step - loss: 1.0422 - accuracy: 0.7720 - val_loss: 1.1181 - val_accuracy: 0.7610\n",
      "Epoch 4/20\n",
      "7982/7982 [==============================] - 2s 256us/step - loss: 0.8234 - accuracy: 0.8188 - val_loss: 1.0206 - val_accuracy: 0.7790\n",
      "Epoch 5/20\n",
      "7982/7982 [==============================] - 2s 274us/step - loss: 0.6670 - accuracy: 0.8559 - val_loss: 0.9639 - val_accuracy: 0.7930\n",
      "Epoch 6/20\n",
      "7982/7982 [==============================] - 2s 215us/step - loss: 0.5360 - accuracy: 0.8870 - val_loss: 0.9232 - val_accuracy: 0.8070\n",
      "Epoch 7/20\n",
      "7982/7982 [==============================] - 1s 162us/step - loss: 0.4301 - accuracy: 0.9100 - val_loss: 0.9117 - val_accuracy: 0.8000\n",
      "Epoch 8/20\n",
      "7982/7982 [==============================] - 2s 306us/step - loss: 0.3576 - accuracy: 0.9261 - val_loss: 0.8861 - val_accuracy: 0.8120\n",
      "Epoch 9/20\n",
      "7982/7982 [==============================] - 2s 254us/step - loss: 0.2930 - accuracy: 0.9385 - val_loss: 0.8921 - val_accuracy: 0.8130\n",
      "Epoch 10/20\n",
      "7982/7982 [==============================] - 1s 174us/step - loss: 0.2489 - accuracy: 0.9446 - val_loss: 0.9071 - val_accuracy: 0.8090\n",
      "Epoch 11/20\n",
      "7982/7982 [==============================] - 1s 145us/step - loss: 0.2129 - accuracy: 0.9494 - val_loss: 0.9163 - val_accuracy: 0.8130\n",
      "Epoch 12/20\n",
      "7982/7982 [==============================] - 1s 147us/step - loss: 0.1857 - accuracy: 0.9489 - val_loss: 0.9466 - val_accuracy: 0.8100\n",
      "Epoch 13/20\n",
      "7982/7982 [==============================] - 1s 143us/step - loss: 0.1664 - accuracy: 0.9545 - val_loss: 1.0310 - val_accuracy: 0.8010\n",
      "Epoch 14/20\n",
      "7982/7982 [==============================] - 1s 142us/step - loss: 0.1524 - accuracy: 0.9548 - val_loss: 0.9904 - val_accuracy: 0.8000\n",
      "Epoch 15/20\n",
      "7982/7982 [==============================] - 1s 173us/step - loss: 0.1421 - accuracy: 0.9553 - val_loss: 1.0154 - val_accuracy: 0.8040\n",
      "Epoch 16/20\n",
      "7982/7982 [==============================] - 1s 143us/step - loss: 0.1341 - accuracy: 0.9554 - val_loss: 0.9844 - val_accuracy: 0.8090\n",
      "Epoch 17/20\n",
      "7982/7982 [==============================] - 1s 139us/step - loss: 0.1243 - accuracy: 0.9559 - val_loss: 1.0169 - val_accuracy: 0.8190\n",
      "Epoch 18/20\n",
      "7982/7982 [==============================] - 1s 140us/step - loss: 0.1220 - accuracy: 0.9565 - val_loss: 1.0541 - val_accuracy: 0.8100\n",
      "Epoch 19/20\n",
      "7982/7982 [==============================] - 1s 137us/step - loss: 0.1121 - accuracy: 0.9590 - val_loss: 1.0299 - val_accuracy: 0.8130\n",
      "Epoch 20/20\n",
      "7982/7982 [==============================] - 1s 148us/step - loss: 0.1111 - accuracy: 0.9582 - val_loss: 1.0700 - val_accuracy: 0.8100\n"
     ]
    }
   ],
   "source": [
    "history = model.fit(x_train_part, y_train_part, \n",
    "                    epochs = 20, batch_size = 512, \n",
    "                    validation_data = (x_val, y_val))"
   ]
  },
  {
   "cell_type": "code",
   "execution_count": 17,
   "metadata": {},
   "outputs": [
    {
     "data": {
      "image/png": "[encoded data removed]",
      "text/plain": [
       "<Figure size 576x360 with 1 Axes>"
      ]
     },
     "metadata": {
      "needs_background": "light"
     },
     "output_type": "display_data"
    }
   ],
   "source": [
    "history_dict = history.history\n",
    "epoches = range(1, 1 + 20)\n",
    "\n",
    "loss_training = history_dict['loss']\n",
    "loss_validation = history_dict['val_loss']\n",
    "\n",
    "plt.figure(figsize = (8, 5))\n",
    "plt.plot(epoches, loss_training, 'rx')\n",
    "plt.plot(epoches, loss_validation, 'b^')\n",
    "plt.legend(['Training Loss', 'Validation Loss'])\n",
    "plt.xlabel('Epoches')\n",
    "plt.ylabel('Loss')\n",
    "plt.show()"
   ]
  },
  {
   "cell_type": "code",
   "execution_count": 18,
   "metadata": {},
   "outputs": [
    {
     "data": {
      "image/png": "[encoded data removed]",
      "text/plain": [
       "<Figure size 576x360 with 1 Axes>"
      ]
     },
     "metadata": {
      "needs_background": "light"
     },
     "output_type": "display_data"
    }
   ],
   "source": [
    "acc_training = history_dict['accuracy']\n",
    "acc_validation = history_dict['val_accuracy']\n",
    "\n",
    "plt.figure(figsize = (8, 5))\n",
    "plt.plot(epoches, acc_training, 'rx')\n",
    "plt.plot(epoches, acc_validation, 'b^')\n",
    "plt.legend(['Training Accuracy', 'Validation Accuracy'])\n",
    "plt.xlabel('Epoches')\n",
    "plt.ylabel('Loss')\n",
    "plt.show()"
   ]
  },
  {
   "cell_type": "markdown",
   "metadata": {},
   "source": [
    "## Predicting "
   ]
  },
  {
   "cell_type": "code",
   "execution_count": 19,
   "metadata": {},
   "outputs": [],
   "source": [
    "model = models.Sequential()\n",
    "model.add(layers.Dense(64, activation = 'relu', input_shape = (10000,)))\n",
    "model.add(layers.Dense(64, activation = 'relu'))\n",
    "model.add(layers.Dense(46, activation = 'softmax'))"
   ]
  },
  {
   "cell_type": "code",
   "execution_count": 20,
   "metadata": {},
   "outputs": [],
   "source": [
    "model.compile(optimizer='rmsprop', \n",
    "             loss = 'categorical_crossentropy', \n",
    "             metrics = ['accuracy'])"
   ]
  },
  {
   "cell_type": "code",
   "execution_count": 21,
   "metadata": {},
   "outputs": [
    {
     "name": "stdout",
     "output_type": "stream",
     "text": [
      "Train on 7982 samples, validate on 1000 samples\n",
      "Epoch 1/9\n",
      "7982/7982 [==============================] - 1s 145us/step - loss: 2.6352 - accuracy: 0.5316 - val_loss: 1.7368 - val_accuracy: 0.6420\n",
      "Epoch 2/9\n",
      "7982/7982 [==============================] - 1s 139us/step - loss: 1.4060 - accuracy: 0.7078 - val_loss: 1.3108 - val_accuracy: 0.7220\n",
      "Epoch 3/9\n",
      "7982/7982 [==============================] - 1s 143us/step - loss: 1.0476 - accuracy: 0.7751 - val_loss: 1.1404 - val_accuracy: 0.7510\n",
      "Epoch 4/9\n",
      "7982/7982 [==============================] - 1s 145us/step - loss: 0.8334 - accuracy: 0.8211 - val_loss: 1.0629 - val_accuracy: 0.7660\n",
      "Epoch 5/9\n",
      "7982/7982 [==============================] - 1s 148us/step - loss: 0.6661 - accuracy: 0.8576 - val_loss: 1.0070 - val_accuracy: 0.7820\n",
      "Epoch 6/9\n",
      "7982/7982 [==============================] - 1s 170us/step - loss: 0.5424 - accuracy: 0.8851 - val_loss: 0.9496 - val_accuracy: 0.8050\n",
      "Epoch 7/9\n",
      "7982/7982 [==============================] - 2s 244us/step - loss: 0.4370 - accuracy: 0.9089 - val_loss: 0.9268 - val_accuracy: 0.8140\n",
      "Epoch 8/9\n",
      "7982/7982 [==============================] - 3s 330us/step - loss: 0.3598 - accuracy: 0.9261 - val_loss: 0.9193 - val_accuracy: 0.8100\n",
      "Epoch 9/9\n",
      "7982/7982 [==============================] - 2s 288us/step - loss: 0.2983 - accuracy: 0.9342 - val_loss: 0.9120 - val_accuracy: 0.8270\n",
      "2246/2246 [==============================] - 1s 538us/step\n"
     ]
    }
   ],
   "source": [
    "model.fit(x_train_part, y_train_part, \n",
    "         epochs = 9, batch_size = 512, \n",
    "         validation_data = (x_val, y_val))\n",
    "\n",
    "results = model.evaluate(x_test, y_test)"
   ]
  },
  {
   "cell_type": "code",
   "execution_count": 22,
   "metadata": {},
   "outputs": [
    {
     "data": {
      "text/plain": [
       "[0.9984806847168947, 0.7925200462341309]"
      ]
     },
     "execution_count": 22,
     "metadata": {},
     "output_type": "execute_result"
    }
   ],
   "source": [
    "results"
   ]
  },
  {
   "cell_type": "code",
   "execution_count": 23,
   "metadata": {},
   "outputs": [],
   "source": [
    "confidence = model.predict(x_test)"
   ]
  },
  {
   "cell_type": "code",
   "execution_count": 24,
   "metadata": {},
   "outputs": [
    {
     "data": {
      "image/png": "[encoded data removed]",
      "text/plain": [
       "<Figure size 432x288 with 1 Axes>"
      ]
     },
     "metadata": {
      "needs_background": "light"
     },
     "output_type": "display_data"
    }
   ],
   "source": [
    "plt.hist(confidence[:, 6], bins = 20, rwidth = 0.9)\n",
    "plt.show()"
   ]
  },
  {
   "cell_type": "code",
   "execution_count": null,
   "metadata": {},
   "outputs": [],
   "source": []
  }
 ],
 "metadata": {
  "kernelspec": {
   "display_name": "Python 3",
   "language": "python",
   "name": "python3"
  },
  "language_info": {
   "codemirror_mode": {
    "name": "ipython",
    "version": 3
   },
   "file_extension": ".py",
   "mimetype": "text/x-python",
   "name": "python",
   "nbconvert_exporter": "python",
   "pygments_lexer": "ipython3",
   "version": "3.7.7"
  }
 },
 "nbformat": 4,
 "nbformat_minor": 4
}
